{
 "cells": [
  {
   "cell_type": "code",
   "execution_count": 1,
   "id": "179aa83c",
   "metadata": {},
   "outputs": [],
   "source": [
    "import os\n",
    "from dotenv import load_dotenv\n",
    "import getpass\n",
    "\n",
    "load_dotenv()\n",
    "\n",
    "if not os.environ.get(\"GOOGLE_API_KEY\"):\n",
    "    os.environ[\"GOOGLE_API_KEY\"] = getpass.getpass(\n",
    "        \"Enter API key for Google Gemini: \")"
   ]
  },
  {
   "cell_type": "code",
   "execution_count": 2,
   "id": "d401dd71",
   "metadata": {},
   "outputs": [
    {
     "data": {
      "text/plain": [
       "AIMessage(content='Hello! How can I help you today?', additional_kwargs={}, response_metadata={'prompt_feedback': {'block_reason': 0, 'safety_ratings': []}, 'finish_reason': 'STOP', 'model_name': 'gemini-2.0-flash', 'safety_ratings': []}, id='run--83e8d454-d6d3-4677-9f05-c95d2cbeeee9-0', usage_metadata={'input_tokens': 2, 'output_tokens': 10, 'total_tokens': 12, 'input_token_details': {'cache_read': 0}})"
      ]
     },
     "execution_count": 2,
     "metadata": {},
     "output_type": "execute_result"
    }
   ],
   "source": [
    "from langchain.chat_models import init_chat_model\n",
    "model = init_chat_model(model=\"gemini-2.0-flash\", model_provider=\"google_genai\")\n",
    "model.invoke(\"Hello Gemini\")"
   ]
  },
  {
   "cell_type": "code",
   "execution_count": null,
   "id": "79c8b55a",
   "metadata": {},
   "outputs": [
    {
     "data": {
      "text/plain": [
       "\"The Long-range 12 day forecast also includes detail for Mumbai weather today. Live weather reports from Mumbai weather stations and weather warnings that include risk of thunder, high UV index and forecast gales. See the links below the 12-day Mumbai weather forecast table for other cities and towns nearby along with weather conditions for local outdoor activities. Mumbai is 5 m above sea ... Mumbai received the highest one-day rainfall in May since 2021, when the extremely severe cyclonic storm Cyclone Tauktae brushed past the city. Mumbai rain forecast: Days after torrential downpour ... Latest weather forecast for Mumbai for today's, hourly weather forecast, including today's temperatures in Mumbai, wind, rain and more. How's the weather today in Mumbai, Maharashtra. We provide information on: wind speed, wind direction, atmospheric pressure, temperature, humidity and visibility. The total rainfall recorded at the two observatories so far this month stands at 341.8 mm (Santacruz) and 456.9 mm (Colaba). (Express Photo by Ganesh Shirsekar) Mumbai Rains Today LIVE Updates: The city woke up to a cloudy morning today as the India Meteorological Department (IMD) predicted heavy rains through the day. The weather department has said that gusty winds and lightening are also ...\""
      ]
     },
     "execution_count": 4,
     "metadata": {},
     "output_type": "execute_result"
    }
   ],
   "source": [
    "from langchain_community.tools import DuckDuckGoSearchRun, DuckDuckGoSearchResults\n",
    "\n",
    "search = DuckDuckGoSearchRun()\n",
    "\n",
    "search.invoke(\"What's the weather currently in Mumbai?\")"
   ]
  },
  {
   "cell_type": "code",
   "execution_count": 5,
   "id": "e5e1100b",
   "metadata": {},
   "outputs": [],
   "source": [
    "# create tools list\n",
    "tools = [search]"
   ]
  },
  {
   "cell_type": "code",
   "execution_count": 7,
   "id": "7f1d6815",
   "metadata": {},
   "outputs": [
    {
     "data": {
      "text/plain": [
       "AIMessage(content=\"I'm sorry, I don't have the current weather information for Mumbai. However, you can easily find this information on a variety of weather websites or apps, such as Google Weather, AccuWeather, or The Weather Channel.\", additional_kwargs={}, response_metadata={'prompt_feedback': {'block_reason': 0, 'safety_ratings': []}, 'finish_reason': 'STOP', 'model_name': 'gemini-2.0-flash', 'safety_ratings': []}, id='run--07a97123-37a7-42fc-857d-6bbb50a447c7-0', usage_metadata={'input_tokens': 9, 'output_tokens': 48, 'total_tokens': 57, 'input_token_details': {'cache_read': 0}})"
      ]
     },
     "execution_count": 7,
     "metadata": {},
     "output_type": "execute_result"
    }
   ],
   "source": [
    "response = model.invoke(\"What's the weather now in Mumbai?\")\n",
    "response"
   ]
  },
  {
   "cell_type": "code",
   "execution_count": 8,
   "id": "0ee05744",
   "metadata": {},
   "outputs": [],
   "source": [
    "from langgraph.prebuilt import create_react_agent\n",
    "\n",
    "agent_executor = create_react_agent(model, tools)"
   ]
  },
  {
   "cell_type": "code",
   "execution_count": 9,
   "id": "8b0eaf57",
   "metadata": {},
   "outputs": [
    {
     "data": {
      "text/plain": [
       "{'messages': [HumanMessage(content=\"What's the weather now in Mumbai? Use DuckDuckGo search tool if needed.\", additional_kwargs={}, response_metadata={}, id='7d9ffc63-e148-4b92-8f34-aa674504d14f'),\n",
       "  AIMessage(content='', additional_kwargs={'function_call': {'name': 'duckduckgo_search', 'arguments': '{\"query\": \"weather in Mumbai now\"}'}}, response_metadata={'prompt_feedback': {'block_reason': 0, 'safety_ratings': []}, 'finish_reason': 'STOP', 'model_name': 'gemini-2.0-flash', 'safety_ratings': []}, id='run--3d212431-ffee-4d67-8778-56e63ce370bd-0', tool_calls=[{'name': 'duckduckgo_search', 'args': {'query': 'weather in Mumbai now'}, 'id': 'dc9fe220-c815-44ef-9c41-734e4fb2575a', 'type': 'tool_call'}], usage_metadata={'input_tokens': 59, 'output_tokens': 10, 'total_tokens': 69, 'input_token_details': {'cache_read': 0}}),\n",
       "  ToolMessage(content='Mumbai Weather News LIVE: The India Meteorological Department has issued orange to red alerts, warning of continued rain across the city and coastal Maharashtra over the next few hours. With high tides expected late morning and night, waterlogging concerns persist. Western, eastern, and central suburbs also recorded moderate rainfall. Rains are likely to continue through Tuesday morning before ... The Long-range 12 day forecast also includes detail for Mumbai weather today. Live weather reports from Mumbai weather stations and weather warnings that include risk of thunder, high UV index and forecast gales. See the links below the 12-day Mumbai weather forecast table for other cities and towns nearby along with weather conditions for ... How\\'s the weather today in Mumbai, Maharashtra. We provide information on: wind speed, wind direction, atmospheric pressure, temperature, humidity and visibility. ... Weather forecast Mumbai\">Weather in Mumbai The weather in Mumbai. 25°C Cloudy, Rain Rainfall: 0.8 mm Wind speed: 14 km/h The temperature in Mumbai today in the early morning is 27 ° C.. If you take into account factors such as wind, humidity and other weather conditions, the temperatures can feel like 31 ° C.. The chance of rain in Mumbai in the morning is 100%, and the wind will blow at 33 km/h. Get the latest weather forecast for Mumbai, India. View current conditions, hourly updates, and 7-day weather outlook with accurate temperature, precipitation, and wind information.', name='duckduckgo_search', id='2a270d6b-e1a4-4b29-8609-1ff1635a4ffb', tool_call_id='dc9fe220-c815-44ef-9c41-734e4fb2575a'),\n",
       "  AIMessage(content='The weather in Mumbai is 25°C and cloudy with rain. The wind speed is 14 km/h. There is a 100% chance of rain in the morning. The India Meteorological Department has issued orange to red alerts, warning of continued rain across the city and coastal Maharashtra over the next few hours. Waterlogging concerns persist.', additional_kwargs={}, response_metadata={'prompt_feedback': {'block_reason': 0, 'safety_ratings': []}, 'finish_reason': 'STOP', 'model_name': 'gemini-2.0-flash', 'safety_ratings': []}, id='run--4848d59d-6c55-4e52-ada2-42352a150572-0', usage_metadata={'input_tokens': 382, 'output_tokens': 74, 'total_tokens': 456, 'input_token_details': {'cache_read': 0}})]}"
      ]
     },
     "execution_count": 9,
     "metadata": {},
     "output_type": "execute_result"
    }
   ],
   "source": [
    "response = agent_executor.invoke({\"messages\": [\"What's the weather now in Mumbai? Use DuckDuckGo search tool if needed.\"]})\n",
    "response"
   ]
  },
  {
   "cell_type": "code",
   "execution_count": 10,
   "id": "862b4463",
   "metadata": {},
   "outputs": [
    {
     "data": {
      "text/plain": [
       "[HumanMessage(content=\"What's the weather now in Mumbai? Use DuckDuckGo search tool if needed.\", additional_kwargs={}, response_metadata={}, id='7d9ffc63-e148-4b92-8f34-aa674504d14f'),\n",
       " AIMessage(content='', additional_kwargs={'function_call': {'name': 'duckduckgo_search', 'arguments': '{\"query\": \"weather in Mumbai now\"}'}}, response_metadata={'prompt_feedback': {'block_reason': 0, 'safety_ratings': []}, 'finish_reason': 'STOP', 'model_name': 'gemini-2.0-flash', 'safety_ratings': []}, id='run--3d212431-ffee-4d67-8778-56e63ce370bd-0', tool_calls=[{'name': 'duckduckgo_search', 'args': {'query': 'weather in Mumbai now'}, 'id': 'dc9fe220-c815-44ef-9c41-734e4fb2575a', 'type': 'tool_call'}], usage_metadata={'input_tokens': 59, 'output_tokens': 10, 'total_tokens': 69, 'input_token_details': {'cache_read': 0}}),\n",
       " ToolMessage(content='Mumbai Weather News LIVE: The India Meteorological Department has issued orange to red alerts, warning of continued rain across the city and coastal Maharashtra over the next few hours. With high tides expected late morning and night, waterlogging concerns persist. Western, eastern, and central suburbs also recorded moderate rainfall. Rains are likely to continue through Tuesday morning before ... The Long-range 12 day forecast also includes detail for Mumbai weather today. Live weather reports from Mumbai weather stations and weather warnings that include risk of thunder, high UV index and forecast gales. See the links below the 12-day Mumbai weather forecast table for other cities and towns nearby along with weather conditions for ... How\\'s the weather today in Mumbai, Maharashtra. We provide information on: wind speed, wind direction, atmospheric pressure, temperature, humidity and visibility. ... Weather forecast Mumbai\">Weather in Mumbai The weather in Mumbai. 25°C Cloudy, Rain Rainfall: 0.8 mm Wind speed: 14 km/h The temperature in Mumbai today in the early morning is 27 ° C.. If you take into account factors such as wind, humidity and other weather conditions, the temperatures can feel like 31 ° C.. The chance of rain in Mumbai in the morning is 100%, and the wind will blow at 33 km/h. Get the latest weather forecast for Mumbai, India. View current conditions, hourly updates, and 7-day weather outlook with accurate temperature, precipitation, and wind information.', name='duckduckgo_search', id='2a270d6b-e1a4-4b29-8609-1ff1635a4ffb', tool_call_id='dc9fe220-c815-44ef-9c41-734e4fb2575a'),\n",
       " AIMessage(content='The weather in Mumbai is 25°C and cloudy with rain. The wind speed is 14 km/h. There is a 100% chance of rain in the morning. The India Meteorological Department has issued orange to red alerts, warning of continued rain across the city and coastal Maharashtra over the next few hours. Waterlogging concerns persist.', additional_kwargs={}, response_metadata={'prompt_feedback': {'block_reason': 0, 'safety_ratings': []}, 'finish_reason': 'STOP', 'model_name': 'gemini-2.0-flash', 'safety_ratings': []}, id='run--4848d59d-6c55-4e52-ada2-42352a150572-0', usage_metadata={'input_tokens': 382, 'output_tokens': 74, 'total_tokens': 456, 'input_token_details': {'cache_read': 0}})]"
      ]
     },
     "execution_count": 10,
     "metadata": {},
     "output_type": "execute_result"
    }
   ],
   "source": [
    "response[\"messages\"]"
   ]
  }
 ],
 "metadata": {
  "kernelspec": {
   "display_name": ".venv",
   "language": "python",
   "name": "python3"
  },
  "language_info": {
   "codemirror_mode": {
    "name": "ipython",
    "version": 3
   },
   "file_extension": ".py",
   "mimetype": "text/x-python",
   "name": "python",
   "nbconvert_exporter": "python",
   "pygments_lexer": "ipython3",
   "version": "3.11.10"
  }
 },
 "nbformat": 4,
 "nbformat_minor": 5
}
