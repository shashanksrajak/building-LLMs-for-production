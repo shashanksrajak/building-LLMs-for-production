{
 "cells": [
  {
   "cell_type": "markdown",
   "id": "c57f1bf9",
   "metadata": {},
   "source": [
    "Langchain Tutorial for Building an Agent\n",
    "https://python.langchain.com/docs/tutorials/agents/"
   ]
  },
  {
   "cell_type": "code",
   "execution_count": 2,
   "id": "179aa83c",
   "metadata": {},
   "outputs": [],
   "source": [
    "import os\n",
    "from dotenv import load_dotenv\n",
    "import getpass\n",
    "\n",
    "load_dotenv()\n",
    "\n",
    "if not os.environ.get(\"GOOGLE_API_KEY\"):\n",
    "    os.environ[\"GOOGLE_API_KEY\"] = getpass.getpass(\n",
    "        \"Enter API key for Google Gemini: \")"
   ]
  },
  {
   "cell_type": "code",
   "execution_count": null,
   "id": "d401dd71",
   "metadata": {},
   "outputs": [
    {
     "data": {
      "text/plain": [
       "AIMessage(content='Hello! How can I help you today?', additional_kwargs={}, response_metadata={'prompt_feedback': {'block_reason': 0, 'safety_ratings': []}, 'finish_reason': 'STOP', 'model_name': 'gemini-2.0-flash', 'safety_ratings': []}, id='run--1571deff-1064-4e06-8e5d-0478987f6259-0', usage_metadata={'input_tokens': 2, 'output_tokens': 10, 'total_tokens': 12, 'input_token_details': {'cache_read': 0}})"
      ]
     },
     "execution_count": 5,
     "metadata": {},
     "output_type": "execute_result"
    }
   ],
   "source": [
    "from langchain.chat_models import init_chat_model\n",
    "model = init_chat_model(model=\"gemini-2.0-flash\", model_provider=\"google_genai\")\n",
    "model.invoke(\"Hello Gemini\")"
   ]
  },
  {
   "cell_type": "code",
   "execution_count": 23,
   "id": "77dca7e5",
   "metadata": {},
   "outputs": [],
   "source": [
    "openai_model = init_chat_model(\n",
    "    model=\"gpt-3.5-turbo\", model_provider=\"openai\", temperature=0)"
   ]
  },
  {
   "cell_type": "code",
   "execution_count": null,
   "id": "79c8b55a",
   "metadata": {},
   "outputs": [
    {
     "data": {
      "text/plain": [
       "\"The results of India's general elections to constitute 18th Lok Sabha, held in April-June 2024 were announced on 4th and 5th June 2024. [1] The main contenders were two alliance groups of the Incumbent National Democratic Alliance (N.D.A) led by Bharatiya Janata Party; and the Opposition Indian National Developmental Inclusive Alliance (I.N.D.I) alliance led by Indian National Congress. See results and maps from India's 2024 Lok Sabha elections. While the NDA secured victory in the Lok Sabha Election 2024, the Congress-led INDIA bloc emerged as a strong opposition and registered win on 234 seats. The NDA's numbers have come down this election when compared to the alliance's past performance. The NDA's numbers stood at 292 seats, while the BJP registered its win on 240 seats. India has elected 74 women MPs to Lok Sabha this year, four fewer than in 2019 and 52 more than in India's first elections in 1952. These 74 women make just 13.63% of the elected strength of the Lower House, much less than the 33% that will be reserved for women after the next delimitation exercise. Leaders of the INDIA bloc are arriving in the national capital for a big meeting, a day after results were declared for the Lok Sabha Election. The INDIA bloc secured 232 seats in the elections ...\""
      ]
     },
     "execution_count": 10,
     "metadata": {},
     "output_type": "execute_result"
    }
   ],
   "source": [
    "from langchain_community.tools import DuckDuckGoSearchRun, DuckDuckGoSearchResults\n",
    "\n",
    "search = DuckDuckGoSearchRun()\n",
    "\n",
    "search_results = DuckDuckGoSearchResults()\n",
    "\n",
    "search.invoke(\"India's election result for last Lok Sabha election?\")"
   ]
  },
  {
   "cell_type": "code",
   "execution_count": 11,
   "id": "fbeda944",
   "metadata": {},
   "outputs": [
    {
     "data": {
      "text/plain": [
       "\"snippet: The results of India 's general elections to constitute 18th Lok Sabha, held in April-June 2024 were announced on 4th and 5th June 2024. [1] The main contenders were two alliance groups of the Incumbent National Democratic Alliance (N.D.A) led by Bharatiya Janata Party; and the Opposition Indian National Developmental Inclusive Alliance (I.N.D.I) alliance led by Indian National Congress. [2 ..., title: Results of the 2024 Indian general election - Wikipedia, link: https://en.wikipedia.org/wiki/Results_of_the_2024_Indian_general_election, snippet: See results and maps from India's 2024 Lok Sabha elections., title: India Live Election Results and Map 2024 - The New York Times, link: https://www.nytimes.com/interactive/2024/06/03/world/asia/results-india-lok-sabha-election.html, snippet: The Bharatiya Janata Party's final seats tally for the Lok Sabha elections settled at 240, the Election Commission's data revealed early Wednesday morning. The ruling party, which has dominated ..., title: Final election results: BJP wins 240 seats, Congress 99; check full ..., link: https://www.hindustantimes.com/india-news/lok-sabha-polls-final-result-bjp-wins-240-seats-congress-99-check-full-list-101717549803095.html, snippet: The polling to elect 543 members of the Lok Sabha, lower house of the Indian parliament, concluded on June 1., title: Indian 2024 election results - reuters.com, link: https://www.reuters.com/graphics/INDIA-ELECTION/zgponbzllvd/\""
      ]
     },
     "execution_count": 11,
     "metadata": {},
     "output_type": "execute_result"
    }
   ],
   "source": [
    "search_results.invoke(\"India's election result for last Lok Sabha election?\")"
   ]
  },
  {
   "cell_type": "code",
   "execution_count": 13,
   "id": "e5e1100b",
   "metadata": {},
   "outputs": [],
   "source": [
    "# create tools list\n",
    "tools = [search]"
   ]
  },
  {
   "cell_type": "code",
   "execution_count": 14,
   "id": "daa36302",
   "metadata": {},
   "outputs": [
    {
     "data": {
      "text/plain": [
       "AIMessage(content=\"I'm sorry, I'm unable to retrieve weather information. I can perform web searches, if you'd like me to search for the weather in Raipur.\", additional_kwargs={}, response_metadata={'prompt_feedback': {'block_reason': 0, 'safety_ratings': []}, 'finish_reason': 'STOP', 'model_name': 'gemini-2.0-flash', 'safety_ratings': []}, id='run--93cfa4a4-7cce-49a6-bd3a-e0308690bfc3-0', usage_metadata={'input_tokens': 51, 'output_tokens': 36, 'total_tokens': 87, 'input_token_details': {'cache_read': 0}})"
      ]
     },
     "execution_count": 14,
     "metadata": {},
     "output_type": "execute_result"
    }
   ],
   "source": [
    "# Lets bind the tool to our model\n",
    "model_with_tool = model.bind_tools(tools)\n",
    "\n",
    "response = model_with_tool.invoke(\"What's the weather now in Raipur?\")\n",
    "response"
   ]
  },
  {
   "cell_type": "code",
   "execution_count": 15,
   "id": "1d514e74",
   "metadata": {},
   "outputs": [
    {
     "name": "stdout",
     "output_type": "stream",
     "text": [
      "I'm sorry, I'm unable to retrieve weather information. I can perform web searches, if you'd like me to search for the weather in Raipur.\n",
      "[]\n"
     ]
    }
   ],
   "source": [
    "print(response.content)\n",
    "print(response.tool_calls)"
   ]
  },
  {
   "cell_type": "code",
   "execution_count": 16,
   "id": "0ee05744",
   "metadata": {},
   "outputs": [],
   "source": [
    "from langgraph.prebuilt import create_react_agent\n",
    "\n",
    "agent_executor = create_react_agent(model, tools)\n",
    "\n"
   ]
  },
  {
   "cell_type": "code",
   "execution_count": 20,
   "id": "8b0eaf57",
   "metadata": {},
   "outputs": [
    {
     "data": {
      "text/plain": [
       "{'messages': [HumanMessage(content=\"What's the weather now in Raipur? Use DuckDuckGo search tool if needed.\", additional_kwargs={}, response_metadata={}, id='be2e79d6-0a67-43e0-812b-8bb137ad6b15'),\n",
       "  AIMessage(content='', additional_kwargs={'function_call': {'name': 'duckduckgo_search', 'arguments': '{\"query\": \"weather in Raipur\"}'}}, response_metadata={'prompt_feedback': {'block_reason': 0, 'safety_ratings': []}, 'finish_reason': 'STOP', 'model_name': 'gemini-2.0-flash', 'safety_ratings': []}, id='run--6a391757-f2a8-43ec-a321-808882a385c9-0', tool_calls=[{'name': 'duckduckgo_search', 'args': {'query': 'weather in Raipur'}, 'id': '687128e5-67b9-4436-8449-c1a21bdc62a1', 'type': 'tool_call'}], usage_metadata={'input_tokens': 60, 'output_tokens': 10, 'total_tokens': 70, 'input_token_details': {'cache_read': 0}}),\n",
       "  ToolMessage(content='Live weather reports from Raipur weather stations and weather warnings that include risk of thunder, high UV index and forecast gales. See the links below the 12-day Raipur weather forecast table for other cities and towns nearby along with weather conditions for local outdoor activities. ☁ Raipur Chhattisgarh India 15 Day Weather Forecast. Today Raipur Chhattisgarh India: Partly Cloudy with a temperature of 32°C and a wind South-South-West speed of 9 Km/h. The humidity will be 51% and there will be 0.0 mm of precipitation. Weather in Chhattisgarh, Raipur: Get the current weather, hourly and weekly weather forecast for Raipur, along with current temperature, rainfall, wind speed, humidity, air-quality, 15-days weather forecast and season trend for Raipur. Weather forecast Raipur\">Weather in Raipur The weather in Raipur. 27°C Partly Cloudy Rainfall: 0 mm Wind speed: 13 km/h Wind direction: SW. The weather in India. How\\'s the weather today in Raipur, Chhattisgarh. We provide information on: wind speed, wind direction, atmospheric pressure, temperature, humidity and visibility. Raipur Weather Forecasts. Weather Underground provides local & long-range weather forecasts, weatherreports, maps & tropical weather conditions for the Raipur area.', name='duckduckgo_search', id='b1060796-1033-4b42-be03-b892d5ca15dc', tool_call_id='687128e5-67b9-4436-8449-c1a21bdc62a1'),\n",
       "  AIMessage(content='The weather in Raipur, Chhattisgarh, India is partly cloudy with a temperature of 32°C. The wind is South-South-West at 9 Km/h. The humidity is 51% and there will be 0.0 mm of precipitation.', additional_kwargs={}, response_metadata={'prompt_feedback': {'block_reason': 0, 'safety_ratings': []}, 'finish_reason': 'STOP', 'model_name': 'gemini-2.0-flash', 'safety_ratings': []}, id='run--eace1c57-bd14-4edb-8692-83d119c085ba-0', usage_metadata={'input_tokens': 355, 'output_tokens': 56, 'total_tokens': 411, 'input_token_details': {'cache_read': 0}})]}"
      ]
     },
     "execution_count": 20,
     "metadata": {},
     "output_type": "execute_result"
    }
   ],
   "source": [
    "response = agent_executor.invoke({\"messages\": [\"What's the weather now in Raipur? Use DuckDuckGo search tool if needed.\"]})\n",
    "response"
   ]
  },
  {
   "cell_type": "code",
   "execution_count": 21,
   "id": "862b4463",
   "metadata": {},
   "outputs": [
    {
     "data": {
      "text/plain": [
       "[HumanMessage(content=\"What's the weather now in Raipur? Use DuckDuckGo search tool if needed.\", additional_kwargs={}, response_metadata={}, id='be2e79d6-0a67-43e0-812b-8bb137ad6b15'),\n",
       " AIMessage(content='', additional_kwargs={'function_call': {'name': 'duckduckgo_search', 'arguments': '{\"query\": \"weather in Raipur\"}'}}, response_metadata={'prompt_feedback': {'block_reason': 0, 'safety_ratings': []}, 'finish_reason': 'STOP', 'model_name': 'gemini-2.0-flash', 'safety_ratings': []}, id='run--6a391757-f2a8-43ec-a321-808882a385c9-0', tool_calls=[{'name': 'duckduckgo_search', 'args': {'query': 'weather in Raipur'}, 'id': '687128e5-67b9-4436-8449-c1a21bdc62a1', 'type': 'tool_call'}], usage_metadata={'input_tokens': 60, 'output_tokens': 10, 'total_tokens': 70, 'input_token_details': {'cache_read': 0}}),\n",
       " ToolMessage(content='Live weather reports from Raipur weather stations and weather warnings that include risk of thunder, high UV index and forecast gales. See the links below the 12-day Raipur weather forecast table for other cities and towns nearby along with weather conditions for local outdoor activities. ☁ Raipur Chhattisgarh India 15 Day Weather Forecast. Today Raipur Chhattisgarh India: Partly Cloudy with a temperature of 32°C and a wind South-South-West speed of 9 Km/h. The humidity will be 51% and there will be 0.0 mm of precipitation. Weather in Chhattisgarh, Raipur: Get the current weather, hourly and weekly weather forecast for Raipur, along with current temperature, rainfall, wind speed, humidity, air-quality, 15-days weather forecast and season trend for Raipur. Weather forecast Raipur\">Weather in Raipur The weather in Raipur. 27°C Partly Cloudy Rainfall: 0 mm Wind speed: 13 km/h Wind direction: SW. The weather in India. How\\'s the weather today in Raipur, Chhattisgarh. We provide information on: wind speed, wind direction, atmospheric pressure, temperature, humidity and visibility. Raipur Weather Forecasts. Weather Underground provides local & long-range weather forecasts, weatherreports, maps & tropical weather conditions for the Raipur area.', name='duckduckgo_search', id='b1060796-1033-4b42-be03-b892d5ca15dc', tool_call_id='687128e5-67b9-4436-8449-c1a21bdc62a1'),\n",
       " AIMessage(content='The weather in Raipur, Chhattisgarh, India is partly cloudy with a temperature of 32°C. The wind is South-South-West at 9 Km/h. The humidity is 51% and there will be 0.0 mm of precipitation.', additional_kwargs={}, response_metadata={'prompt_feedback': {'block_reason': 0, 'safety_ratings': []}, 'finish_reason': 'STOP', 'model_name': 'gemini-2.0-flash', 'safety_ratings': []}, id='run--eace1c57-bd14-4edb-8692-83d119c085ba-0', usage_metadata={'input_tokens': 355, 'output_tokens': 56, 'total_tokens': 411, 'input_token_details': {'cache_read': 0}})]"
      ]
     },
     "execution_count": 21,
     "metadata": {},
     "output_type": "execute_result"
    }
   ],
   "source": [
    "response[\"messages\"]"
   ]
  },
  {
   "cell_type": "code",
   "execution_count": 27,
   "id": "55c38f42",
   "metadata": {},
   "outputs": [
    {
     "data": {
      "text/plain": [
       "[HumanMessage(content=\"What's the weather now in Raipur?\", additional_kwargs={}, response_metadata={}, id='7fe14c91-46ed-4a57-b3ff-ba9d8036fa56'),\n",
       " AIMessage(content='', additional_kwargs={'tool_calls': [{'id': 'call_JNe6spaZM9rMi3apXvMyU310', 'function': {'arguments': '{\"query\":\"current weather in Raipur\"}', 'name': 'duckduckgo_search'}, 'type': 'function'}], 'refusal': None}, response_metadata={'token_usage': {'completion_tokens': 21, 'prompt_tokens': 85, 'total_tokens': 106, 'completion_tokens_details': {'accepted_prediction_tokens': 0, 'audio_tokens': 0, 'reasoning_tokens': 0, 'rejected_prediction_tokens': 0}, 'prompt_tokens_details': {'audio_tokens': 0, 'cached_tokens': 0}}, 'model_name': 'gpt-3.5-turbo-0125', 'system_fingerprint': None, 'id': 'chatcmpl-BbsDIMe98nb28qqgzZuCIOqV2Tmlr', 'service_tier': 'default', 'finish_reason': 'tool_calls', 'logprobs': None}, id='run--6e28eda5-3516-4f3e-96c9-a03503ec7d16-0', tool_calls=[{'name': 'duckduckgo_search', 'args': {'query': 'current weather in Raipur'}, 'id': 'call_JNe6spaZM9rMi3apXvMyU310', 'type': 'tool_call'}], usage_metadata={'input_tokens': 85, 'output_tokens': 21, 'total_tokens': 106, 'input_token_details': {'audio': 0, 'cache_read': 0}, 'output_token_details': {'audio': 0, 'reasoning': 0}}),\n",
       " ToolMessage(content=\"12 day Raipur Weather Forecast. Live Weather Warnings, hourly weather updates. Accurate Raipur weather today, forecast for sun, rain, wind and temperature. Raipur, India - Current temperature and weather conditions. Detailed hourly weather forecast for today - including weather conditions, temperature, pressure, humidity, precipitation, dewpoint, wind, visibility, and UV index data. Current weather in Raipur is 33°C. Get today's Raipur weather report along with accurate forecast including hourly, weekly and monthly reports at Oneindia. Currently: 76 °F. Haze. (Weather station: Pbo Raipur, India). See more current weather × Weather in Chhattisgarh, Raipur: Get the current weather, hourly and weekly weather forecast for Raipur, along with current temperature, rainfall, wind speed, humidity, air-quality, 15-days weather forecast and season trend for Raipur.\", name='duckduckgo_search', id='6355643c-08bd-4684-a367-eb99e624bb0c', tool_call_id='call_JNe6spaZM9rMi3apXvMyU310'),\n",
       " AIMessage(content='The current weather in Raipur is 33°C with haze.', additional_kwargs={'refusal': None}, response_metadata={'token_usage': {'completion_tokens': 14, 'prompt_tokens': 302, 'total_tokens': 316, 'completion_tokens_details': {'accepted_prediction_tokens': 0, 'audio_tokens': 0, 'reasoning_tokens': 0, 'rejected_prediction_tokens': 0}, 'prompt_tokens_details': {'audio_tokens': 0, 'cached_tokens': 0}}, 'model_name': 'gpt-3.5-turbo-0125', 'system_fingerprint': None, 'id': 'chatcmpl-BbsDK8DWaTFYixDgxE5uVJY3mHHRU', 'service_tier': 'default', 'finish_reason': 'stop', 'logprobs': None}, id='run--8857c5b1-0f62-4635-98ed-3cd3b3d95f64-0', usage_metadata={'input_tokens': 302, 'output_tokens': 14, 'total_tokens': 316, 'input_token_details': {'audio': 0, 'cache_read': 0}, 'output_token_details': {'audio': 0, 'reasoning': 0}})]"
      ]
     },
     "execution_count": 27,
     "metadata": {},
     "output_type": "execute_result"
    }
   ],
   "source": [
    "agent_executor = create_react_agent(openai_model, tools)\n",
    "response = agent_executor.invoke({\"messages\": [\n",
    "                                 \"What's the weather now in Raipur?\"]})\n",
    "response[\"messages\"]"
   ]
  }
 ],
 "metadata": {
  "kernelspec": {
   "display_name": ".venv",
   "language": "python",
   "name": "python3"
  },
  "language_info": {
   "codemirror_mode": {
    "name": "ipython",
    "version": 3
   },
   "file_extension": ".py",
   "mimetype": "text/x-python",
   "name": "python",
   "nbconvert_exporter": "python",
   "pygments_lexer": "ipython3",
   "version": "3.11.10"
  }
 },
 "nbformat": 4,
 "nbformat_minor": 5
}
