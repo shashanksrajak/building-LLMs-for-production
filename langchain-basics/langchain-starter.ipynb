{
 "cells": [
  {
   "cell_type": "code",
   "execution_count": 13,
   "id": "22868e80",
   "metadata": {},
   "outputs": [],
   "source": [
    "# modules import\n",
    "from dotenv import load_dotenv\n",
    "load_dotenv()\n",
    "import os\n"
   ]
  },
  {
   "cell_type": "code",
   "execution_count": 17,
   "id": "b237178e",
   "metadata": {},
   "outputs": [],
   "source": [
    "# langachain modules\n",
    "from langchain.chat_models import init_chat_model"
   ]
  },
  {
   "cell_type": "markdown",
   "id": "1241bda7",
   "metadata": {},
   "source": [
    "**NOTE** Majority of textbooks and tutorial videos are following an older version of langchain, so you might see lot of decprecation warning. Better to follow langchain official doc  here [doc link](https://python.langchain.com/docs/tutorials/llm_chain/)\n",
    "\n",
    "Overall concept remains same, just the classes have been changed."
   ]
  },
  {
   "cell_type": "markdown",
   "id": "f63da186",
   "metadata": {},
   "source": [
    "### Init a chat model based on some LLM model"
   ]
  },
  {
   "cell_type": "code",
   "execution_count": 23,
   "id": "89fd0e80",
   "metadata": {},
   "outputs": [],
   "source": [
    "model = init_chat_model(model=\"gpt-3.5-turbo\", model_provider=\"openai\", temperature=0)"
   ]
  },
  {
   "cell_type": "markdown",
   "id": "e8bb32ef",
   "metadata": {},
   "source": [
    "### Most basic thing we can do is directly invoke the model with a prompt"
   ]
  },
  {
   "cell_type": "code",
   "execution_count": 25,
   "id": "b963f8ae",
   "metadata": {},
   "outputs": [
    {
     "name": "stdout",
     "output_type": "stream",
     "text": [
      "1. Spice of India\n",
      "2. Tandoori Delights\n",
      "3. Masala Magic\n",
      "4. Flavors of India\n",
      "5. Curry House\n",
      "6. Saffron Kitchen\n",
      "7. Chai & Chaat\n",
      "8. Biryani Bliss\n",
      "9. Naan Stop\n",
      "10. The Indian Oven\n"
     ]
    }
   ],
   "source": [
    "answer = model.invoke('Suggest me a good name for my Indian restaurant')\n",
    "print(answer.content)"
   ]
  },
  {
   "cell_type": "markdown",
   "id": "24e919ad",
   "metadata": {},
   "source": [
    "### But in reality we will be using Prompt Templates\n",
    "\n",
    "When we are building a LLM powered application, usually we will take input from end user and apply this prompt template to the raw input and then pass it to the LLM model."
   ]
  },
  {
   "cell_type": "code",
   "execution_count": null,
   "id": "09d8fad1",
   "metadata": {},
   "outputs": [
    {
     "data": {
      "text/plain": [
       "ChatPromptValue(messages=[HumanMessage(content='Suggest a name for Italian restaurant', additional_kwargs={}, response_metadata={})])"
      ]
     },
     "execution_count": 31,
     "metadata": {},
     "output_type": "execute_result"
    }
   ],
   "source": [
    "from langchain_core.prompts import ChatPromptTemplate\n",
    "\n",
    "user_template = 'Suggest a name for {cusine} restaurant'\n",
    "\n",
    "prompt_template = ChatPromptTemplate.from_messages([\n",
    "    (\"user\", user_template)\n",
    "])\n",
    "\n",
    "prompt = prompt_template.invoke({\n",
    "    \"cusine\": \"Italian\"\n",
    "})\n",
    "\n",
    "prompt"
   ]
  },
  {
   "cell_type": "code",
   "execution_count": 32,
   "id": "39a068c0",
   "metadata": {},
   "outputs": [
    {
     "data": {
      "text/plain": [
       "[HumanMessage(content='Suggest a name for Italian restaurant', additional_kwargs={}, response_metadata={})]"
      ]
     },
     "execution_count": 32,
     "metadata": {},
     "output_type": "execute_result"
    }
   ],
   "source": [
    "prompt.to_messages()"
   ]
  },
  {
   "cell_type": "code",
   "execution_count": 33,
   "id": "ee9bc418",
   "metadata": {},
   "outputs": [
    {
     "name": "stdout",
     "output_type": "stream",
     "text": [
      "\"Bella Cucina\"\n"
     ]
    }
   ],
   "source": [
    "# using the prompt generate from template we can invoke our model which we created earlier\n",
    "\n",
    "response = model.invoke(prompt)\n",
    "print(response.content)"
   ]
  }
 ],
 "metadata": {
  "kernelspec": {
   "display_name": "deeplearning",
   "language": "python",
   "name": "python3"
  },
  "language_info": {
   "codemirror_mode": {
    "name": "ipython",
    "version": 3
   },
   "file_extension": ".py",
   "mimetype": "text/x-python",
   "name": "python",
   "nbconvert_exporter": "python",
   "pygments_lexer": "ipython3",
   "version": "3.12.9"
  }
 },
 "nbformat": 4,
 "nbformat_minor": 5
}
