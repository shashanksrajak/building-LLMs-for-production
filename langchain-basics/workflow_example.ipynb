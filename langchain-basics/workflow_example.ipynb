{
 "cells": [
  {
   "cell_type": "code",
   "execution_count": 3,
   "id": "d0492674",
   "metadata": {},
   "outputs": [
    {
     "data": {
      "text/plain": [
       "True"
      ]
     },
     "execution_count": 3,
     "metadata": {},
     "output_type": "execute_result"
    }
   ],
   "source": [
    "import os\n",
    "from langchain_community.document_loaders import PyPDFLoader\n",
    "from langchain_huggingface import HuggingFaceEmbeddings\n",
    "from dotenv import load_dotenv\n",
    "load_dotenv()"
   ]
  },
  {
   "cell_type": "code",
   "execution_count": 4,
   "id": "6596f991",
   "metadata": {},
   "outputs": [],
   "source": [
    "file_path = \"./resume.pdf\""
   ]
  },
  {
   "cell_type": "code",
   "execution_count": 5,
   "id": "d21d33fb",
   "metadata": {},
   "outputs": [
    {
     "name": "stderr",
     "output_type": "stream",
     "text": [
      "Ignoring wrong pointing object 134 0 (offset 0)\n"
     ]
    }
   ],
   "source": [
    "loader = PyPDFLoader(file_path)\n",
    "document = loader.load()"
   ]
  },
  {
   "cell_type": "code",
   "execution_count": 6,
   "id": "71a66cfd",
   "metadata": {},
   "outputs": [
    {
     "data": {
      "text/plain": [
       "'Shashank  Kumar  Rajak  Raipur,  India  |  +91-7509616100  |  shashanksrajak@gmail.com https://shash'"
      ]
     },
     "execution_count": 6,
     "metadata": {},
     "output_type": "execute_result"
    }
   ],
   "source": [
    "document[0].page_content[:100]"
   ]
  },
  {
   "cell_type": "code",
   "execution_count": 45,
   "id": "f8b6865b",
   "metadata": {},
   "outputs": [
    {
     "data": {
      "text/plain": [
       "6130"
      ]
     },
     "execution_count": 45,
     "metadata": {},
     "output_type": "execute_result"
    }
   ],
   "source": [
    "len(document[0].page_content)"
   ]
  },
  {
   "cell_type": "markdown",
   "id": "56699489",
   "metadata": {},
   "source": [
    "## Embeddings\n",
    "converting sentences into vectors"
   ]
  },
  {
   "cell_type": "code",
   "execution_count": 5,
   "id": "9f06156d",
   "metadata": {},
   "outputs": [],
   "source": [
    "embeddings = HuggingFaceEmbeddings(model_name=\"sentence-transformers/all-mpnet-base-v2\")"
   ]
  },
  {
   "cell_type": "code",
   "execution_count": 7,
   "id": "ab9a8283",
   "metadata": {},
   "outputs": [
    {
     "data": {
      "text/plain": [
       "768"
      ]
     },
     "execution_count": 7,
     "metadata": {},
     "output_type": "execute_result"
    }
   ],
   "source": [
    "query = embeddings.embed_query(\"Hello, world!\")\n",
    "len(query)"
   ]
  },
  {
   "cell_type": "markdown",
   "id": "fa016f78",
   "metadata": {},
   "source": [
    "## Text Splitter"
   ]
  },
  {
   "cell_type": "code",
   "execution_count": 66,
   "id": "dd8ae205",
   "metadata": {},
   "outputs": [],
   "source": [
    "from langchain.text_splitter import CharacterTextSplitter, RecursiveCharacterTextSplitter\n",
    "\n",
    "\n",
    "text_splitter = CharacterTextSplitter(chunk_size=1000, chunk_overlap=0)\n",
    "docs = text_splitter.split_documents(document)\n",
    "\n",
    "recursive_text_splitter = RecursiveCharacterTextSplitter(\n",
    "    chunk_size=1000,  # Adjust as needed\n",
    "    chunk_overlap=50,  # Helps maintain context across chunks\n",
    "    separators=[\"\\n\\n\", \"\\n\", \" \", \"\"],  # Prioritized list of separators\n",
    ")\n",
    "\n",
    "split_docs = recursive_text_splitter.split_documents(document)"
   ]
  },
  {
   "cell_type": "code",
   "execution_count": 67,
   "id": "98928ee8",
   "metadata": {},
   "outputs": [
    {
     "data": {
      "text/plain": [
       "Document(metadata={'producer': 'Skia/PDF m137 Google Docs Renderer', 'creator': 'PyPDF', 'creationdate': '', 'title': 'Shashank_Rajak_ML_Engineer_Resume', 'source': './resume.pdf', 'total_pages': 1, 'page': 0, 'page_label': '1'}, page_content=\"Shashank  Kumar  Rajak  Raipur,  India  |  +91-7509616100  |  shashanksrajak@gmail.com https://shashankrajak.in |  Github  |   LinkedIn  |   Kaggle  WORK  EXPERIENCE  Lead  Backend  Engineer  |  Binaryveda  Software  Solutions  Pvt  Ltd,  Mumbai |  Sep  2021  –  August  2024  (continued  as  part-time  consultant:  October  2024  –  January  2025 )  -  Led  a  backend  engineering  team  of  5-6,  delivering  multiple  projects  across  industries  (IoT,  EV,  SaaS,  B2B/B2C)  using  \\nNode.js,\\n \\nNestJS,\\n \\nExpress,\\n \\nand\\n \\nAWS\\n \\ncloud\\n \\nservices.\\n \\nArchitected\\n \\nscalable\\n \\ncloud\\n \\narchitectures,\\n \\nCI/CD\\n \\npipelines,\\n \\nand\\n \\nimplemented\\n \\nperformance\\n \\ntuning\\n \\nstrategies.\\n -  Automated  Kodak's competitive  search  engine  analysis,  replacing  a  manual  process.  Developed  a  system  that  performs  web  scraping  of  SERPs  from  Google,  Baidu,  and  Naver  (for  ~10  countries),  calculates  keyword  metrics  for  \\nKodak\\n \\nand\\n \\nits\\n \\ncompetitors,\\n \\nand\\n \\nautomatically\\n \\nupdates\")"
      ]
     },
     "execution_count": 67,
     "metadata": {},
     "output_type": "execute_result"
    }
   ],
   "source": [
    "# len(split_docs)\n",
    "split_docs[0]"
   ]
  },
  {
   "cell_type": "code",
   "execution_count": 48,
   "id": "30c70782",
   "metadata": {},
   "outputs": [
    {
     "data": {
      "text/plain": [
       "1"
      ]
     },
     "execution_count": 48,
     "metadata": {},
     "output_type": "execute_result"
    }
   ],
   "source": [
    "len(docs)"
   ]
  },
  {
   "cell_type": "markdown",
   "id": "532f5295",
   "metadata": {},
   "source": [
    "## Vector Datastore"
   ]
  },
  {
   "cell_type": "code",
   "execution_count": 31,
   "id": "b570405a",
   "metadata": {},
   "outputs": [],
   "source": [
    "from langchain_deeplake.vectorstores import DeeplakeVectorStore"
   ]
  },
  {
   "cell_type": "code",
   "execution_count": 72,
   "id": "1412cb65",
   "metadata": {},
   "outputs": [],
   "source": [
    "\n",
    "activeloop_org_id = \"shashanksrajak\"\n",
    "activeloop_dataset_name = \"langchain_tutorial_resume_personal\"\n",
    "dataset_path = f\"hub://{activeloop_org_id}/{activeloop_dataset_name}\""
   ]
  },
  {
   "cell_type": "code",
   "execution_count": 73,
   "id": "1ff652ec",
   "metadata": {},
   "outputs": [],
   "source": [
    "db = DeeplakeVectorStore(dataset_path=dataset_path, embedding_function=embeddings)"
   ]
  },
  {
   "cell_type": "code",
   "execution_count": 75,
   "id": "5e447dd8",
   "metadata": {},
   "outputs": [
    {
     "data": {
      "text/plain": [
       "['c593c780-65e7-458a-a267-60163f2c5fa2',\n",
       " 'f54baf42-b807-458e-b102-3c9d31804ca1',\n",
       " '90053b0c-fc88-42ed-a1c8-42001a179f0d',\n",
       " 'a9744559-9d56-4448-812e-3032082fe840',\n",
       " 'ac4997c7-4601-4216-9600-36484dac193d',\n",
       " '854ca565-145c-4715-9f70-35caf002acdb',\n",
       " 'fede8023-c03e-4fa7-b17e-6c2fa4c5bc7b']"
      ]
     },
     "execution_count": 75,
     "metadata": {},
     "output_type": "execute_result"
    }
   ],
   "source": [
    "db.add_documents(split_docs)"
   ]
  },
  {
   "cell_type": "code",
   "execution_count": 78,
   "id": "21d8e8b4",
   "metadata": {},
   "outputs": [],
   "source": [
    "query = \"What is his education?\""
   ]
  },
  {
   "cell_type": "code",
   "execution_count": 81,
   "id": "424d039a",
   "metadata": {},
   "outputs": [
    {
     "name": "stdout",
     "output_type": "stream",
     "text": [
      "Shashank  Kumar  Rajak  Raipur,  India  |  +91-7509616100  |  shashanksrajak@gmail.com https://shashankrajak.in |  Github  |   LinkedIn  |   Kaggle  WORK  EXPERIENCE  Lead  Backend  Engineer  |  Binaryveda  Software  Solutions  Pvt  Ltd,  Mumbai |  Sep  2021  –  August  2024  (continued  as  part-time  consultant:  October  2024  –  January  2025 )  -  Led  a  backend  engineering  team  of  5-6,  delivering  multiple  projects  across  industries  (IoT,  EV,  SaaS,  B2B/B2C)  using  \n",
      "Node.js,\n",
      " \n",
      "NestJS,\n",
      " \n",
      "Express,\n",
      " \n",
      "and\n",
      " \n",
      "AWS\n",
      " \n",
      "cloud\n",
      " \n",
      "services.\n",
      " \n",
      "Architected\n",
      " \n",
      "scalable\n",
      " \n",
      "cloud\n",
      " \n",
      "architectures,\n",
      " \n",
      "CI/CD\n",
      " \n",
      "pipelines,\n",
      " \n",
      "and\n",
      " \n",
      "implemented\n",
      " \n",
      "performance\n",
      " \n",
      "tuning\n",
      " \n",
      "strategies.\n",
      " -  Automated  Kodak's competitive  search  engine  analysis,  replacing  a  manual  process.  Developed  a  system  that  performs  web  scraping  of  SERPs  from  Google,  Baidu,  and  Naver  (for  ~10  countries),  calculates  keyword  metrics  for  \n",
      "Kodak\n",
      " \n",
      "and\n",
      " \n",
      "its\n",
      " \n",
      "competitors,\n",
      " \n",
      "and\n",
      " \n",
      "automatically\n",
      " \n",
      "updates\n",
      "-------------------------\n",
      "selfie\n",
      " \n",
      "images\n",
      " \n",
      "and\n",
      " \n",
      "mood\n",
      " \n",
      "logs\n",
      " \n",
      "for\n",
      " \n",
      "sentiment\n",
      " \n",
      "analysis\n",
      " \n",
      "and\n",
      " \n",
      "insights.\n",
      " \n",
      "Used\n",
      " \n",
      "Firebase\n",
      " \n",
      "for\n",
      " \n",
      "backend\n",
      " \n",
      "and\n",
      " \n",
      "NextJs\n",
      " \n",
      "for\n",
      " \n",
      "frontend.\n",
      " \n",
      "Enabled\n",
      " \n",
      "users\n",
      " \n",
      "to\n",
      " \n",
      "track\n",
      " \n",
      "emotional\n",
      " \n",
      "trends\n",
      " \n",
      "over\n",
      " \n",
      "time,\n",
      " \n",
      "laying\n",
      " \n",
      "the\n",
      " \n",
      "groundwork\n",
      " \n",
      "for\n",
      " \n",
      "personalized\n",
      " \n",
      "mental\n",
      " \n",
      "health\n",
      " \n",
      "   EDUCATION  -  Indian  Institute  of  Technology  Guwahati  (Guwahati,  Assam,  India)  |  Sep  2024  –  July  2028  (expected)  Bachelor  of  Science  in  Data  Science  &  Artificial  Intelligence  (Online  Flexible  Program)   -  Indian  Institute  of  Technology  Kharagpur  (Kharagpur,  West  Bengal,  India)  |  2012  –  2017  \n",
      "Bachelor\n",
      " \n",
      "of\n",
      " \n",
      "Technology\n",
      " \n",
      "in\n",
      " \n",
      "Civil\n",
      " \n",
      "Engineering\n",
      "  CERTIFICATIONS  AWS  Certified  Solutions  Architect  -  Associate    \n",
      "SKILLS\n",
      " \n",
      "Programming:\n",
      " \n",
      "Python,\n",
      " \n",
      "JavaScript,\n",
      " \n",
      "NodeJs\n",
      " \n",
      "|\n",
      " \n",
      " Libraries:  TensorFlow,  Keras,  Scikit-learn,  LangChain  DevOps/Cloud:  AWS,  Docker,  Kubernetes   Specialities:  NLP\n",
      "-------------------------\n",
      "contributed\n",
      " \n",
      "to\n",
      " \n",
      "increased\n",
      " \n",
      "user\n",
      " \n",
      "engagement.\n",
      " -  Led  the  backend  development  of  Simple  Energy  (Electrical  Vehicle),  overseeing  the  migration  of  a  monolithic  Node.js  backend  to  a  microservices  architecture  on  AWS.  Led  the  migration  of  database  (MariaDB  to  Postgres)  and  \n",
      "authentication\n",
      " \n",
      "(manual\n",
      " \n",
      "database\n",
      " \n",
      "to\n",
      " \n",
      "AWS\n",
      " \n",
      "Cognito)\n",
      " \n",
      "for\n",
      " \n",
      "~100,000\n",
      " \n",
      "active\n",
      " \n",
      "users\n",
      " \n",
      "with\n",
      " \n",
      "zero\n",
      " \n",
      "downtime,\n",
      " \n",
      "ensuring\n",
      " \n",
      "business\n",
      " \n",
      "continuity.\n",
      " \n",
      "Developed\n",
      " \n",
      "GraphQL\n",
      " \n",
      "APIs\n",
      " \n",
      "and\n",
      " \n",
      "built\n",
      " \n",
      "the\n",
      " \n",
      "foundation\n",
      " \n",
      "for\n",
      " \n",
      "OTA\n",
      " \n",
      "updates\n",
      " \n",
      "for\n",
      " \n",
      "HMI\n",
      " \n",
      "software\n",
      " \n",
      "using\n",
      " \n",
      "AWS\n",
      " \n",
      "IoT\n",
      " \n",
      "service.\n",
      " -  Led  the  design  and  development  of  a  microservices  backend  for  smart  lock  systems  for  Godrej  Locks,  supporting  B2B/B2C  needs.  Designed  and  implemented  a  microservices  architecture  using  Kafka,  WebSockets,  and  the  AWS  \n",
      "stack.\n",
      " \n",
      "Developed\n",
      " \n",
      "real-time\n",
      " \n",
      "communication\n",
      " \n",
      "features,\n",
      " \n",
      "significantly\n",
      " \n",
      "improving\n",
      " \n",
      "user\n",
      " \n",
      "interaction.\n",
      " \n",
      "Implemented\n",
      " \n",
      "a\n",
      " \n",
      "Federated\n",
      " \n",
      "GraphQL\n",
      "-------------------------\n",
      "overall\n",
      " \n",
      "process\n",
      " \n",
      "operational\n",
      " \n",
      "efficiency.\n",
      " -  Developed  a  proof-of-concept  backend,  integrating  the  ONDC  protocol,  to  enable  farmers  to  sell  their  produce  directly  through  a  mobile  app  (for  ESAF  Small  Finance  Bank),  bypassing  the  traditional  mandi  system  and  middlemen.  This  streamlined  process  directly  facilitated  client  onboarding  by  providing  a  key  feature  required  for  their  platform  launch.   PROJECTS  AI  Chatbot  (Shenky)   https://shashankrajak.in/projects/shenky-chatbot Built  an  AI  chatbot  for  online  food  ordering  using  Google  DialogFlow  for  natural  language  processing,  FastAPI  backend  to  \n",
      "process\n",
      " \n",
      "orders\n",
      " \n",
      "via\n",
      " \n",
      "webhooks,\n",
      " \n",
      "and\n",
      " \n",
      "Next.js\n",
      " \n",
      "frontend;\n",
      " \n",
      "deployed\n",
      " \n",
      "on\n",
      " \n",
      "AWS\n",
      " \n",
      "EC2\n",
      " \n",
      "and\n",
      " \n",
      "Amplify.\n",
      " \n",
      "Designed\n",
      " \n",
      "conversation\n",
      " \n",
      "flows,\n",
      " \n",
      "integrated\n",
      " \n",
      "order\n",
      " \n",
      "placement\n",
      " \n",
      "and\n",
      " \n",
      "order\n",
      " \n",
      "tracking,\n",
      " \n",
      "and\n",
      " \n",
      "achieved\n",
      " \n",
      "95%+\n",
      " \n",
      "intent\n",
      " \n",
      "recognition\n",
      " \n",
      "accuracy\n",
      " \n",
      "across\n",
      " \n",
      "~20\n",
      " \n",
      "intents.\n",
      "-------------------------\n"
     ]
    }
   ],
   "source": [
    "similar_docs = db.similarity_search(query)\n",
    "for doc in similar_docs:\n",
    "    print(doc.page_content)\n",
    "    print(\"-------------------------\")"
   ]
  },
  {
   "cell_type": "code",
   "execution_count": 82,
   "id": "faa5d227",
   "metadata": {},
   "outputs": [],
   "source": [
    "from langchain.chat_models import init_chat_model"
   ]
  },
  {
   "cell_type": "code",
   "execution_count": 84,
   "id": "0a7537f7",
   "metadata": {},
   "outputs": [],
   "source": [
    "model = init_chat_model(model=\"gpt-3.5-turbo\",\n",
    "                        model_provider=\"openai\", temperature=0)"
   ]
  },
  {
   "cell_type": "code",
   "execution_count": 85,
   "id": "d7ceea77",
   "metadata": {},
   "outputs": [
    {
     "data": {
      "text/plain": [
       "AIMessage(content='Hello! How can I assist you today?', additional_kwargs={'refusal': None}, response_metadata={'token_usage': {'completion_tokens': 10, 'prompt_tokens': 11, 'total_tokens': 21, 'completion_tokens_details': {'accepted_prediction_tokens': 0, 'audio_tokens': 0, 'reasoning_tokens': 0, 'rejected_prediction_tokens': 0}, 'prompt_tokens_details': {'audio_tokens': 0, 'cached_tokens': 0}}, 'model_name': 'gpt-3.5-turbo-0125', 'system_fingerprint': None, 'id': 'chatcmpl-BWKVmQnjgmhh9AgVLm1UiU2H9tj7I', 'finish_reason': 'stop', 'logprobs': None}, id='run-8661c13b-1ae5-4ba4-a083-3c8eb6061830-0', usage_metadata={'input_tokens': 11, 'output_tokens': 10, 'total_tokens': 21, 'input_token_details': {'audio': 0, 'cache_read': 0}, 'output_token_details': {'audio': 0, 'reasoning': 0}})"
      ]
     },
     "execution_count": 85,
     "metadata": {},
     "output_type": "execute_result"
    }
   ],
   "source": [
    "model.invoke(\"Hello, world!\")"
   ]
  },
  {
   "cell_type": "code",
   "execution_count": 86,
   "id": "be2db2ab",
   "metadata": {},
   "outputs": [],
   "source": [
    "template = \"\"\"\n",
    "Your are an exceptional AI assistant helping recruiters analyze a candidate's suitability for the role of AI Engineer.\n",
    "\n",
    "You know the following context information.\n",
    "\n",
    "{chunks_formatted}\n",
    "\n",
    "Answer to the following question from a recruiter. Use only information from the previous context about the candidate. Do not invent stuff.\n",
    "\n",
    "Question: {query}\n",
    "\n",
    "Answer:\n",
    "\"\"\""
   ]
  },
  {
   "cell_type": "code",
   "execution_count": 87,
   "id": "1563a018",
   "metadata": {},
   "outputs": [],
   "source": [
    "from langchain_core.prompts import ChatPromptTemplate\n",
    "\n",
    "\n",
    "prompt_template = ChatPromptTemplate.from_template(template)"
   ]
  },
  {
   "cell_type": "code",
   "execution_count": 90,
   "id": "ac73048d",
   "metadata": {},
   "outputs": [],
   "source": [
    "prompt_formatted =  prompt_template.format(chunks_formatted=\"IIT Kharagpur, Civil Engineering, IIT Guwahati, Data Science & AI, BSc\", query=\"what is his educational background?\")"
   ]
  },
  {
   "cell_type": "code",
   "execution_count": 91,
   "id": "d0be6176",
   "metadata": {},
   "outputs": [
    {
     "data": {
      "text/plain": [
       "\"Human: \\nYour are an exceptional AI assistant helping recruiters analyze a candidate's suitability for the role of AI Engineer.\\n\\nYou know the following context information.\\n\\nIIT Kharagpur, Civil Engineering, IIT Guwahati, Data Science & AI, BSc\\n\\nAnswer to the following question from a recruiter. Use only information from the previous context about the candidate. Do not invent stuff.\\n\\nQuestion: what is his educational background?\\n\\nAnswer:\\n\""
      ]
     },
     "execution_count": 91,
     "metadata": {},
     "output_type": "execute_result"
    }
   ],
   "source": [
    "prompt_formatted"
   ]
  },
  {
   "cell_type": "code",
   "execution_count": null,
   "id": "638b01a1",
   "metadata": {},
   "outputs": [
    {
     "data": {
      "text/plain": [
       "AIMessage(content='The candidate has a background in Civil Engineering from IIT Kharagpur and has further pursued studies in Data Science & AI at IIT Guwahati. Additionally, they hold a BSc degree.', additional_kwargs={'refusal': None}, response_metadata={'token_usage': {'completion_tokens': 43, 'prompt_tokens': 97, 'total_tokens': 140, 'completion_tokens_details': {'accepted_prediction_tokens': 0, 'audio_tokens': 0, 'reasoning_tokens': 0, 'rejected_prediction_tokens': 0}, 'prompt_tokens_details': {'audio_tokens': 0, 'cached_tokens': 0}}, 'model_name': 'gpt-3.5-turbo-0125', 'system_fingerprint': None, 'id': 'chatcmpl-BWKenld0vMU4sfzTQvdqE8n7zGbwM', 'finish_reason': 'stop', 'logprobs': None}, id='run-da628c16-a5ce-4cfe-9146-b0926247c9bc-0', usage_metadata={'input_tokens': 97, 'output_tokens': 43, 'total_tokens': 140, 'input_token_details': {'audio': 0, 'cache_read': 0}, 'output_token_details': {'audio': 0, 'reasoning': 0}})"
      ]
     },
     "execution_count": 92,
     "metadata": {},
     "output_type": "execute_result"
    }
   ],
   "source": [
    "response = model.invoke(prompt_formatted)\n",
    "response.content"
   ]
  },
  {
   "cell_type": "code",
   "execution_count": 93,
   "id": "f57b3705",
   "metadata": {},
   "outputs": [
    {
     "data": {
      "text/plain": [
       "'The candidate has a background in Civil Engineering from IIT Kharagpur and has further pursued studies in Data Science & AI at IIT Guwahati. Additionally, they hold a BSc degree.'"
      ]
     },
     "execution_count": 93,
     "metadata": {},
     "output_type": "execute_result"
    }
   ],
   "source": [
    "response.content"
   ]
  },
  {
   "cell_type": "markdown",
   "id": "cf1e52f6",
   "metadata": {},
   "source": [
    "## Final QnA"
   ]
  },
  {
   "cell_type": "code",
   "execution_count": 97,
   "id": "3da9bf9e",
   "metadata": {},
   "outputs": [],
   "source": [
    "query = \"What skills he has in AI & Machine Learning?\""
   ]
  },
  {
   "cell_type": "code",
   "execution_count": 98,
   "id": "947eac99",
   "metadata": {},
   "outputs": [
    {
     "name": "stdout",
     "output_type": "stream",
     "text": [
      "Shashank Kumar Rajak has skills in AI and Machine Learning, including programming languages such as Python and JavaScript, as well as libraries like TensorFlow, Keras, and Scikit-learn. He also has experience with NLP (Natural Language Processing) and holds a certification as an AWS Certified Solutions Architect - Associate.\n"
     ]
    }
   ],
   "source": [
    "docs = db.similarity_search(query)\n",
    "\n",
    "retrieved_chunks = [doc.page_content for doc in docs]\n",
    "\n",
    "chunks_formatted = \"\\n\\n\".join(retrieved_chunks)\n",
    "\n",
    "prompt_formatted = prompt_template.format(chunks_formatted=chunks_formatted, query=query)\n",
    "\n",
    "# generate answer\n",
    "response = model.invoke(prompt_formatted)\n",
    "\n",
    "print(response.content)"
   ]
  },
  {
   "cell_type": "code",
   "execution_count": 96,
   "id": "5bc9f264",
   "metadata": {},
   "outputs": [
    {
     "data": {
      "text/plain": [
       "AIMessage(content=\"Yes, based on the candidate's work experience as a Lead Backend Engineer at Binaryveda Software Solutions Pvt Ltd, where they led a team delivering projects using Node.js, NestJS, Express, and AWS cloud services, as well as their education in Data Science & Artificial Intelligence, certifications in AWS, and skills in Python, JavaScript, and NLP, it is evident that this candidate is highly suitable for the role of AI Engineer. Their experience in developing AI chatbots, working on AI projects like Kodak's competitive search engine analysis, and leading the backend development of projects like Simple Energy and smart lock systems for Godrej Locks showcases their expertise in AI technologies and their ability to architect scalable cloud architectures and implement performance tuning strategies. Their background in Civil Engineering also demonstrates their ability to adapt and learn new technologies, making them a strong candidate for the role.\", additional_kwargs={'refusal': None}, response_metadata={'token_usage': {'completion_tokens': 174, 'prompt_tokens': 1246, 'total_tokens': 1420, 'completion_tokens_details': {'accepted_prediction_tokens': 0, 'audio_tokens': 0, 'reasoning_tokens': 0, 'rejected_prediction_tokens': 0}, 'prompt_tokens_details': {'audio_tokens': 0, 'cached_tokens': 0}}, 'model_name': 'gpt-3.5-turbo-0125', 'system_fingerprint': None, 'id': 'chatcmpl-BWKj7wnUK8UkD5MXpH9aYH7Tm9oeQ', 'finish_reason': 'stop', 'logprobs': None}, id='run-be02543a-2959-41e8-b920-f7359b8ce562-0', usage_metadata={'input_tokens': 1246, 'output_tokens': 174, 'total_tokens': 1420, 'input_token_details': {'audio': 0, 'cache_read': 0}, 'output_token_details': {'audio': 0, 'reasoning': 0}})"
      ]
     },
     "execution_count": 96,
     "metadata": {},
     "output_type": "execute_result"
    }
   ],
   "source": [
    "response"
   ]
  }
 ],
 "metadata": {
  "kernelspec": {
   "display_name": "deeplearning",
   "language": "python",
   "name": "python3"
  },
  "language_info": {
   "codemirror_mode": {
    "name": "ipython",
    "version": 3
   },
   "file_extension": ".py",
   "mimetype": "text/x-python",
   "name": "python",
   "nbconvert_exporter": "python",
   "pygments_lexer": "ipython3",
   "version": "3.12.9"
  }
 },
 "nbformat": 4,
 "nbformat_minor": 5
}
