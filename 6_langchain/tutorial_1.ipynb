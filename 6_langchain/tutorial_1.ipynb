{
 "cells": [
  {
   "cell_type": "markdown",
   "id": "d53d7ac0",
   "metadata": {},
   "source": [
    "### Tutorial 1 - Building LLM powered app with LangChain"
   ]
  },
  {
   "cell_type": "markdown",
   "id": "103f8bea",
   "metadata": {},
   "source": []
  }
 ],
 "metadata": {
  "language_info": {
   "name": "python"
  }
 },
 "nbformat": 4,
 "nbformat_minor": 5
}
